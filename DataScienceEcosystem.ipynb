{
 "cells": [
  {
   "cell_type": "markdown",
   "id": "2bfedea7-02f6-4331-9055-71aea4136490",
   "metadata": {},
   "source": [
    "# Data Science Tools and Ecosystem"
   ]
  },
  {
   "cell_type": "markdown",
   "id": "84d89d9d-3167-4b28-82de-c8b3a02c07a9",
   "metadata": {},
   "source": [
    "In this notebook, Data Science Tools and Ecosystem are summarized."
   ]
  },
  {
   "cell_type": "markdown",
   "id": "e0b93125-e5e6-433c-a856-7fce375caa8e",
   "metadata": {},
   "source": [
    "**Objectives:**\n",
    "- list popular languages used in data science;\n",
    "- list development environments\n",
    "- list common data science libraries\n",
    "- show simple arithmetic expressions"
   ]
  },
  {
   "cell_type": "markdown",
   "id": "2d3ed9d9-bb16-4752-a0c2-96c78e4cde71",
   "metadata": {},
   "source": [
    "Some of the popular languages that Data Scientists use are:\n",
    "1. Python\n",
    "2. R\n",
    "3. Java\n",
    "4. Scala\n",
    "5. C++\n",
    "6. Julia"
   ]
  },
  {
   "cell_type": "markdown",
   "id": "5b11835d-e96b-462c-a024-d6c559fc122b",
   "metadata": {},
   "source": [
    "Some of the commonly used libraries used by Data Scientists include:  \n",
    "- For Python:  \n",
    "1. Pandas\n",
    "2. Numpy\n",
    "3. SciPy\n",
    "4. TensorFlow  \n",
    "- For R:\n",
    "1. ggplot2\n",
    "2. dplyr\n",
    "3. stringr\n",
    "4. caret\n",
    "   "
   ]
  },
  {
   "cell_type": "markdown",
   "id": "20d09b27-dd6f-4466-b901-8e3e4a8cd0ce",
   "metadata": {},
   "source": [
    "| Data Science Tools |\n",
    "|--------------------|\n",
    "| Jupyter notebook   |\n",
    "| Rstudio            |\n",
    "| Zeppelin notebooks |"
   ]
  },
  {
   "cell_type": "markdown",
   "id": "2194a8a8-e7b0-435c-ba85-bd0407f46a9b",
   "metadata": {},
   "source": [
    "### Below are a few examples of evaluating arithmetic expressions in Python"
   ]
  },
  {
   "cell_type": "code",
   "execution_count": 1,
   "id": "835a89e0-7103-455b-b169-024a73edbcf7",
   "metadata": {},
   "outputs": [
    {
     "data": {
      "text/plain": [
       "17"
      ]
     },
     "execution_count": 1,
     "metadata": {},
     "output_type": "execute_result"
    }
   ],
   "source": [
    "# This a simple arithmetic expression to multiply then add integers\n",
    "(3*4)+5"
   ]
  },
  {
   "cell_type": "code",
   "execution_count": 2,
   "id": "6c5ac90e-e552-406c-a472-96e2dc8ec806",
   "metadata": {},
   "outputs": [
    {
     "data": {
      "text/plain": [
       "3.3333333333333335"
      ]
     },
     "execution_count": 2,
     "metadata": {},
     "output_type": "execute_result"
    }
   ],
   "source": [
    "# This will convert 200 minutes to hours by diving by 60\n",
    "200 / 60"
   ]
  },
  {
   "cell_type": "markdown",
   "id": "52f5c978-e0d4-4893-aca0-4a30596a07ea",
   "metadata": {},
   "source": [
    "## Author\n",
    "Giovanna Pellecchia"
   ]
  },
  {
   "cell_type": "code",
   "execution_count": null,
   "id": "e07f9c8b-cabc-442b-a5dd-bbf0dd5c2169",
   "metadata": {},
   "outputs": [],
   "source": []
  }
 ],
 "metadata": {
  "kernelspec": {
   "display_name": "Python 3 (ipykernel)",
   "language": "python",
   "name": "python3"
  },
  "language_info": {
   "codemirror_mode": {
    "name": "ipython",
    "version": 3
   },
   "file_extension": ".py",
   "mimetype": "text/x-python",
   "name": "python",
   "nbconvert_exporter": "python",
   "pygments_lexer": "ipython3",
   "version": "3.12.8"
  }
 },
 "nbformat": 4,
 "nbformat_minor": 5
}
